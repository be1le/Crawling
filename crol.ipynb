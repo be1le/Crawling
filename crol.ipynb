{
 "cells": [
  {
   "cell_type": "code",
   "execution_count": 1,
   "metadata": {
    "collapsed": true
   },
   "outputs": [
    {
     "name": "stdout",
     "output_type": "stream",
     "text": [
      "Requirement already satisfied: selenium in /home/gns0817/.local/share/virtualenvs/croling-TkowRTiS/lib/python3.9/site-packages (4.1.0)\r\n",
      "Requirement already satisfied: trio~=0.17 in /home/gns0817/.local/share/virtualenvs/croling-TkowRTiS/lib/python3.9/site-packages (from selenium) (0.19.0)\r\n",
      "Requirement already satisfied: urllib3[secure]~=1.26 in /home/gns0817/.local/share/virtualenvs/croling-TkowRTiS/lib/python3.9/site-packages (from selenium) (1.26.8)\r\n",
      "Requirement already satisfied: trio-websocket~=0.9 in /home/gns0817/.local/share/virtualenvs/croling-TkowRTiS/lib/python3.9/site-packages (from selenium) (0.9.2)\r\n",
      "Requirement already satisfied: outcome in /home/gns0817/.local/share/virtualenvs/croling-TkowRTiS/lib/python3.9/site-packages (from trio~=0.17->selenium) (1.1.0)\r\n",
      "Requirement already satisfied: sortedcontainers in /home/gns0817/.local/share/virtualenvs/croling-TkowRTiS/lib/python3.9/site-packages (from trio~=0.17->selenium) (2.4.0)\r\n",
      "Requirement already satisfied: async-generator>=1.9 in /home/gns0817/.local/share/virtualenvs/croling-TkowRTiS/lib/python3.9/site-packages (from trio~=0.17->selenium) (1.10)\r\n",
      "Requirement already satisfied: sniffio in /home/gns0817/.local/share/virtualenvs/croling-TkowRTiS/lib/python3.9/site-packages (from trio~=0.17->selenium) (1.2.0)\r\n",
      "Requirement already satisfied: attrs>=19.2.0 in /home/gns0817/.local/share/virtualenvs/croling-TkowRTiS/lib/python3.9/site-packages (from trio~=0.17->selenium) (21.4.0)\r\n",
      "Requirement already satisfied: idna in /home/gns0817/.local/share/virtualenvs/croling-TkowRTiS/lib/python3.9/site-packages (from trio~=0.17->selenium) (3.3)\r\n",
      "Requirement already satisfied: wsproto>=0.14 in /home/gns0817/.local/share/virtualenvs/croling-TkowRTiS/lib/python3.9/site-packages (from trio-websocket~=0.9->selenium) (1.0.0)\r\n",
      "Requirement already satisfied: pyOpenSSL>=0.14 in /home/gns0817/.local/share/virtualenvs/croling-TkowRTiS/lib/python3.9/site-packages (from urllib3[secure]~=1.26->selenium) (22.0.0)\r\n",
      "Requirement already satisfied: cryptography>=1.3.4 in /home/gns0817/.local/share/virtualenvs/croling-TkowRTiS/lib/python3.9/site-packages (from urllib3[secure]~=1.26->selenium) (36.0.1)\r\n",
      "Requirement already satisfied: certifi in /home/gns0817/.local/share/virtualenvs/croling-TkowRTiS/lib/python3.9/site-packages (from urllib3[secure]~=1.26->selenium) (2021.10.8)\r\n",
      "Requirement already satisfied: cffi>=1.12 in /home/gns0817/.local/share/virtualenvs/croling-TkowRTiS/lib/python3.9/site-packages (from cryptography>=1.3.4->urllib3[secure]~=1.26->selenium) (1.15.0)\r\n",
      "Requirement already satisfied: h11<1,>=0.9.0 in /home/gns0817/.local/share/virtualenvs/croling-TkowRTiS/lib/python3.9/site-packages (from wsproto>=0.14->trio-websocket~=0.9->selenium) (0.13.0)\r\n",
      "Requirement already satisfied: pycparser in /home/gns0817/.local/share/virtualenvs/croling-TkowRTiS/lib/python3.9/site-packages (from cffi>=1.12->cryptography>=1.3.4->urllib3[secure]~=1.26->selenium) (2.21)\r\n",
      "\u001B[33mWARNING: You are using pip version 21.3.1; however, version 22.0.4 is available.\r\n",
      "You should consider upgrading via the '/home/gns0817/.local/share/virtualenvs/croling-TkowRTiS/bin/python -m pip install --upgrade pip' command.\u001B[0m\r\n"
     ]
    }
   ],
   "source": [
    "! pip install selenium"
   ]
  },
  {
   "cell_type": "code",
   "execution_count": 2,
   "outputs": [],
   "source": [
    "from selenium import webdriver"
   ],
   "metadata": {
    "collapsed": false,
    "pycharm": {
     "name": "#%%\n"
    }
   }
  },
  {
   "cell_type": "code",
   "execution_count": 3,
   "outputs": [
    {
     "name": "stderr",
     "output_type": "stream",
     "text": [
      "/tmp/ipykernel_7030/3663832763.py:1: DeprecationWarning: executable_path has been deprecated, please pass in a Service object\n",
      "  browser = webdriver.Chrome('./chromedriver')\n"
     ]
    }
   ],
   "source": [
    "browser = webdriver.Chrome('./chromedriver')"
   ],
   "metadata": {
    "collapsed": false,
    "pycharm": {
     "name": "#%%\n"
    }
   }
  },
  {
   "cell_type": "code",
   "execution_count": 5,
   "outputs": [],
   "source": [
    "#접속\n",
    "url = 'https://naver.com'\n",
    "browser.get(url)"
   ],
   "metadata": {
    "collapsed": false,
    "pycharm": {
     "name": "#%%\n"
    }
   }
  },
  {
   "cell_type": "raw",
   "source": [
    "#1.브라우저열기\n",
    "#.내가 원하는 정보 페이지 접근. brower.get(url)\n",
    "\n",
    "==url구조==\n",
    "주소: https://주소.x/aaaa/ssss/dddd\n",
    "?\n",
    "파라미터 (변수 = 값) w = tot&Da=YZR&t__nil_se&\n",
    "변수 = 값&변수&값"
   ],
   "metadata": {
    "collapsed": false,
    "pycharm": {
     "name": "#%% raw\n"
    }
   }
  },
  {
   "cell_type": "code",
   "execution_count": 24,
   "outputs": [
    {
     "name": "stdout",
     "output_type": "stream",
     "text": [
      "파이썬\n",
      "https://www.google.com/search?q=파이썬\n",
      "네이버\n",
      "https://www.google.com/search?q=네이버\n",
      "구글주가\n",
      "https://www.google.com/search?q=구글주가\n"
     ]
    }
   ],
   "source": [
    "searching_words =['파이썬','네이버','구글주가']\n",
    "for word in searching_words:\n",
    "    print(word)\n",
    "    url = f'https://www.google.com/search?q={word}'\n",
    "    print(url)"
   ],
   "metadata": {
    "collapsed": false,
    "pycharm": {
     "name": "#%%\n"
    }
   }
  },
  {
   "cell_type": "code",
   "execution_count": null,
   "outputs": [],
   "source": [],
   "metadata": {
    "collapsed": false,
    "pycharm": {
     "name": "#%%\n"
    }
   }
  }
 ],
 "metadata": {
  "kernelspec": {
   "display_name": "Python 3",
   "language": "python",
   "name": "python3"
  },
  "language_info": {
   "codemirror_mode": {
    "name": "ipython",
    "version": 2
   },
   "file_extension": ".py",
   "mimetype": "text/x-python",
   "name": "python",
   "nbconvert_exporter": "python",
   "pygments_lexer": "ipython2",
   "version": "2.7.6"
  }
 },
 "nbformat": 4,
 "nbformat_minor": 0
}