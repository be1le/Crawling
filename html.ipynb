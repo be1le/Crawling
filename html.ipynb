{
 "cells": [
  {
   "cell_type": "code",
   "execution_count": 4,
   "metadata": {
    "collapsed": true
   },
   "outputs": [],
   "source": [
    "from selenium import webdriver"
   ]
  },
  {
   "cell_type": "code",
   "execution_count": 5,
   "outputs": [
    {
     "name": "stderr",
     "output_type": "stream",
     "text": [
      "/tmp/ipykernel_12878/3663832763.py:1: DeprecationWarning: executable_path has been deprecated, please pass in a Service object\n",
      "  browser = webdriver.Chrome('./chromedriver')\n"
     ]
    }
   ],
   "source": [
    "browser = webdriver.Chrome('./chromedriver')"
   ],
   "metadata": {
    "collapsed": false,
    "pycharm": {
     "name": "#%%\n"
    }
   }
  },
  {
   "cell_type": "code",
   "execution_count": 6,
   "outputs": [],
   "source": [
    "url = 'https://sports.v.daum.net/v/20220215160420887'\n",
    "browser.get(url)"
   ],
   "metadata": {
    "collapsed": false,
    "pycharm": {
     "name": "#%%\n"
    }
   }
  },
  {
   "cell_type": "markdown",
   "source": [],
   "metadata": {
    "collapsed": false
   }
  },
  {
   "cell_type": "code",
   "execution_count": 7,
   "outputs": [],
   "source": [
    "html = browser.page_source\n",
    "#html에 있는 정보/데이터 중에서 ~~에 해당하는 조건 찾아줘 == .page_source"
   ],
   "metadata": {
    "collapsed": false,
    "pycharm": {
     "name": "#%%\n"
    }
   }
  },
  {
   "cell_type": "code",
   "execution_count": 8,
   "outputs": [
    {
     "data": {
      "text/plain": "str"
     },
     "execution_count": 8,
     "metadata": {},
     "output_type": "execute_result"
    }
   ],
   "source": [
    "type(html)"
   ],
   "metadata": {
    "collapsed": false,
    "pycharm": {
     "name": "#%%\n"
    }
   }
  },
  {
   "cell_type": "code",
   "execution_count": 10,
   "outputs": [
    {
     "name": "stdout",
     "output_type": "stream",
     "text": [
      "Requirement already satisfied: bs4 in /home/gns0817/.local/share/virtualenvs/croling-TkowRTiS/lib/python3.9/site-packages (0.0.1)\r\n",
      "Requirement already satisfied: beautifulsoup4 in /home/gns0817/.local/share/virtualenvs/croling-TkowRTiS/lib/python3.9/site-packages (from bs4) (4.10.0)\r\n",
      "Requirement already satisfied: soupsieve>1.2 in /home/gns0817/.local/share/virtualenvs/croling-TkowRTiS/lib/python3.9/site-packages (from beautifulsoup4->bs4) (2.3.1)\r\n",
      "\u001B[33mWARNING: You are using pip version 21.3.1; however, version 22.0.4 is available.\r\n",
      "You should consider upgrading via the '/home/gns0817/.local/share/virtualenvs/croling-TkowRTiS/bin/python -m pip install --upgrade pip' command.\u001B[0m\r\n"
     ]
    }
   ],
   "source": [
    "!pip install bs4"
   ],
   "metadata": {
    "collapsed": false,
    "pycharm": {
     "name": "#%%\n"
    }
   }
  },
  {
   "cell_type": "code",
   "execution_count": 13,
   "outputs": [],
   "source": [
    "from  bs4 import BeautifulSoup"
   ],
   "metadata": {
    "collapsed": false,
    "pycharm": {
     "name": "#%%\n"
    }
   }
  },
  {
   "cell_type": "code",
   "execution_count": 14,
   "outputs": [],
   "source": [
    "soup = BeautifulSoup(html, 'html.parser') #html을 html.parser 기준으로 읽어줘"
   ],
   "metadata": {
    "collapsed": false,
    "pycharm": {
     "name": "#%%\n"
    }
   }
  },
  {
   "cell_type": "code",
   "execution_count": 15,
   "outputs": [
    {
     "data": {
      "text/plain": "bs4.BeautifulSoup"
     },
     "execution_count": 15,
     "metadata": {},
     "output_type": "execute_result"
    }
   ],
   "source": [
    "type(soup)"
   ],
   "metadata": {
    "collapsed": false,
    "pycharm": {
     "name": "#%%\n"
    }
   }
  },
  {
   "cell_type": "code",
   "source": [
    "soup.select('태그조건')#soup 데이터 내에서 ~에해당하는 태그를 모두 다찾아줘\n",
    "soup.select('태그명')\n",
    "soup.select('.class속성값')\n",
    "soup.select('#id속성값')\n",
    "soup.select('부모태그정보 > 자식태그정보')\n",
    "#리스트 형태로 반환"
   ],
   "metadata": {
    "collapsed": false,
    "pycharm": {
     "name": "#%%\n"
    }
   },
   "execution_count": 16,
   "outputs": [
    {
     "data": {
      "text/plain": "[]"
     },
     "execution_count": 16,
     "metadata": {},
     "output_type": "execute_result"
    }
   ]
  },
  {
   "cell_type": "raw",
   "source": [
    "<h3 class=\"tit_view\" data-translation=\"true\">[올림픽] 김아랑의 부정 출발, 실수 아닌 작전..한국 쇼트트랙의 수싸움</h3>"
   ],
   "metadata": {
    "collapsed": false,
    "pycharm": {
     "name": "#%% raw\n"
    }
   }
  },
  {
   "cell_type": "code",
   "execution_count": null,
   "outputs": [],
   "source": [],
   "metadata": {
    "collapsed": false,
    "pycharm": {
     "name": "#%%\n"
    }
   }
  },
  {
   "cell_type": "code",
   "execution_count": 17,
   "outputs": [
    {
     "data": {
      "text/plain": "137"
     },
     "execution_count": 17,
     "metadata": {},
     "output_type": "execute_result"
    }
   ],
   "source": [
    "title = soup.select('div')\n",
    "len(title)"
   ],
   "metadata": {
    "collapsed": false,
    "pycharm": {
     "name": "#%%\n"
    }
   }
  },
  {
   "cell_type": "code",
   "execution_count": 19,
   "outputs": [
    {
     "data": {
      "text/plain": "[<div class=\"head_view\" data-cloud=\"pc_article_title_and_util\"> <em class=\"info_cp\"> <a class=\"link_cp\" href=\"https://www.yna.co.kr/\" target=\"_blank\"> <img alt=\"연합뉴스\" class=\"thumb_g\" src=\"https://t1.daumcdn.net/media/news/news2016/cp/cp_yonhap.gif\"/> </a> </em>\n <h3 class=\"tit_view\" data-translation=\"true\">[올림픽] 김아랑의 부정 출발, 실수 아닌 작전..한국 쇼트트랙의 수싸움</h3> <span class=\"info_view\"> <span class=\"txt_info\">김경윤</span> <span class=\"txt_info\">입력 <span class=\"num_date\">2022. 02. 15. 16:04</span></span> </span>\n <div class=\"util_view\">\n <h4 class=\"screen_out\">기사 도구 모음</h4>\n <div class=\"btn_util util_summary\"> <button aria-expanded=\"false\" class=\"btn_summary\" type=\"button\"><span class=\"ico_newsview\">자동요약</span></button>\n <div class=\"wrap_setlayer\">\n <div class=\"layer_util layer_summary\">\n <p class=\"desc_news\">쇼트트랙 여자 대표팀 김아랑(고양시청)은 지난 13일 중국 베이징 캐피털실내경기장에서 열린 2022 베이징동계올림픽 쇼트트랙 여자 3,000ｍ 계주 결승에서 한국 대표팀의 1번 주자로 나섰다.</p>\n <p class=\"desc_news\">쇼트트랙은 부정 출발이 발생하면 모든 선수는 다시 출발선에 선다.</p>\n <p class=\"desc_news\">한국은 네덜란드 등 출발선에서 유리한 자리를 잡은 팀들의 초반 독주를 막는 데 성공했다.</p> <span class=\"info_summary\"><span class=\"ico_newsview\"></span>기사 제목과 주요 문장을 기반으로 자동요약한 결과입니다. 전체 맥락을 이해하기 위해서는 본문 보기를 권장합니다.</span>\n </div>\n </div>\n </div>\n <div class=\"btn_util tts_btn\"> <button aria-expanded=\"false\" class=\"btn_set btn_tts #util #tts #p_normal_Male\" type=\"button\"> <span class=\"ico_newsview ico_speak\">음성 기사 듣기</span> </button>\n <div class=\"wrap_setlayer\">\n <div class=\"layer_util layer_set layer_tts\"> <strong class=\"screen_out\">음성 기사 옵션 조절 레이어</strong>\n <ul class=\"list_set list_tts\">\n <li> <input class=\"screen_out\" id=\"ttsGenderMale\" name=\"ttsGender\" type=\"radio\" value=\"Male\"/> <label class=\"lab_set\" for=\"ttsGenderMale\"><span class=\"ico_newsview\"></span>남성</label> </li>\n <li> <input class=\"screen_out\" id=\"ttsGenderFemale\" name=\"ttsGender\" type=\"radio\" value=\"Female\"/> <label class=\"lab_set\" for=\"ttsGenderFemale\"><span class=\"ico_newsview\"></span>여성</label> </li>\n </ul>\n <ul class=\"list_set list_tts list_ttsspeed\">\n <li> <input class=\"screen_out\" id=\"ttsSpeedSlow\" name=\"ttsSpeed\" type=\"radio\" value=\"slow\"/> <label class=\"lab_set\" for=\"ttsSpeedSlow\"><span class=\"ico_newsview\"></span>느림</label> </li>\n <li> <input class=\"screen_out\" id=\"ttsSpeedNormal\" name=\"ttsSpeed\" type=\"radio\" value=\"normal\"/> <label class=\"lab_set\" for=\"ttsSpeedNormal\"><span class=\"ico_newsview\"></span>보통</label> </li>\n <li> <input class=\"screen_out\" id=\"ttsSpeedFast\" name=\"ttsSpeed\" type=\"radio\" value=\"fast\"/> <label class=\"lab_set\" for=\"ttsSpeedFast\"><span class=\"ico_newsview\"></span>빠름</label> </li>\n </ul>\n </div>\n </div>\n <audio id=\"ttsPlayer\" preload=\"none\" src=\"http://k-v1.kakaocdn.net/dn/bgTbuh/btrtk1SbscR/KnJRK4ennIRi68QAW2mW90/original.m4a\" style=\"display:none\"></audio>\n </div>\n <div class=\"btn_util translate_btn\"> <button aria-expanded=\"false\" class=\"btn_set btn_translate #util #translate #set\" type=\"button\"><span class=\"ico_newsview\">번역 설정</span></button>\n <div class=\"wrap_translatelayer\">\n <div class=\"layer_util layer_translate\"> <strong class=\"tit_translate\">번역<span class=\"ico_newsview\">beta</span> </strong>\n <p class=\"desc_translate txt_newsview\">Translated by <a class=\"link_kakaoi #util #translate #kakaoi_link\" href=\"https://kakao.ai/\" target=\"_blank\">kakao i</a></p> <strong class=\"screen_out\">번역할 언어 선택</strong>\n <ul class=\"list_lang\">\n <li> <button class=\"btn_lang btn_en #util #translate #lang_en\" name=\"en\"> <span class=\"ico_newsview ico_flag\"></span> <strong class=\"ico_newsview tit_lang\">English</strong> </button> </li>\n <li> <button class=\"btn_lang btn_ch #util #translate #lang_cn\" name=\"cn\" type=\"button\"> <span class=\"ico_newsview ico_flag\"></span> <strong class=\"ico_newsview tit_lang\">简体中文</strong> </button> </li>\n <li> <button class=\"btn_lang btn_jp #util #translate #lang_jp\" name=\"jp\" type=\"button\"> <span class=\"ico_newsview ico_flag\"></span> <strong class=\"ico_newsview tit_lang\">日本語</strong> </button> </li>\n <li> <button class=\"btn_lang btn_ind #util #translate #lang_id\" name=\"id\" type=\"button\"> <span class=\"ico_newsview ico_flag\"></span> <strong class=\"ico_newsview tit_lang\">Bahasa Indonesia</strong> </button> </li>\n <li> <button class=\"btn_lang btn_viet #util #translate #lang_vi\" name=\"vi\" type=\"button\"> <span class=\"ico_newsview ico_flag\"></span> <strong class=\"ico_newsview tit_lang\">tiếng Việt</strong> </button> </li>\n <li> <button class=\"btn_lang btn_ko #util #translate #lang_kr\" name=\"kr\" type=\"button\"> <span class=\"ico_newsview ico_flag\"></span> <strong class=\"ico_newsview tit_lang\">한국어</strong> </button> </li>\n </ul>\n </div>\n </div>\n </div>\n <div class=\"btn_util share_btn\"> <button aria-expanded=\"false\" class=\"btn_set btn_share\" id=\"rSocialShareButton\"> <span class=\"ico_newsview\">공유</span> </button>\n <div id=\"rSocialShareLayerContainer\"><div class=\"social_comm_p hide\"><div class=\"sns_comm_p share_layer\">\n <strong class=\"screen_out\">SNS로 공유하기 펼쳐짐</strong>\n <ul class=\"list_sns\"><li>\n <a class=\"link_sns\" data-handler=\"kakaotalk\" href=\"#none\">\n <span class=\"img_social ico_sns_kt\">\n </span>카카오톡</a></li><li>\n <a class=\"link_sns\" data-handler=\"kakaostory\" href=\"#none\">\n <span class=\"img_social ico_sns_ks\">\n </span>카카오스토리</a></li><li>\n <a class=\"link_sns\" data-handler=\"facebook\" href=\"#none\">\n <span class=\"img_social ico_sns_fb\">\n </span>페이스북</a></li><li>\n <a class=\"link_sns\" data-handler=\"twitter\" href=\"#none\">\n <span class=\"img_social ico_sns_tw\">\n </span>트위터</a></li><li>\n <a class=\"link_sns\" data-handler=\"mail\" href=\"#none\">\n <span class=\"img_social ico_sns_mail\">\n </span>다음메일</a></li><li>\n <a class=\"link_sns\" data-handler=\"daumcafe\" href=\"#none\">\n <span class=\"img_social ico_sns_cafe\">\n </span>다음카페</a></li></ul>\n <div class=\"copyUrl\"><div class=\"sns_copyurl\">\n <a class=\"link_copyurl\" href=\"#none\">\n <span class=\"screen_out\">현재페이지 URL복사</span>\n <span class=\"txt_url\">https://sports.v.daum.net/v/20220215160420887</span>\n <span class=\"txt_copy\">URL복사</span>\n </a>\n </div></div>\n <button class=\"btn_close\"><span class=\"img_social ico_close\">공유목록 닫기</span></button>\n </div><div class=\"sns_comm_p copyurl_layer hide\">\n <div class=\"inner_copyurl\">\n <p class=\"desc_copyurl\">주소가 복사되었습니다.<br/>원하는곳에 붙여넣기(Ctrl+V)해주세요.</p>\n <button class=\"btn_close\"><span class=\"img_social ico_close\">공유목록 닫기</span>\n </button>\n </div></div></div></div>\n </div>\n <div class=\"btn_util font_btn\"> <button aria-expanded=\"false\" class=\"btn_set btn_font\" type=\"button\"> <span class=\"ico_newsview ico_font\">글씨크기 조절하기</span> </button>\n <div class=\"wrap_setlayer\">\n <div class=\"layer_util layer_set layer_font\"> <strong class=\"screen_out\">글자 크기 조절 레이어</strong>\n <ul class=\"list_set list_font\">\n <li> <input class=\"screen_out\" id=\"inpFont17\" name=\"inpFont\" type=\"radio\" value=\"17\"/> <label class=\"lab_set lab_size0 on\" for=\"inpFont17\"> <span class=\"ico_newsview\"></span> <span aria-hidden=\"true\">가나다라마바사</span> <span class=\"screen_out\">매우 작은 폰트</span> </label> </li>\n <li> <input class=\"screen_out\" id=\"inpFont18\" name=\"inpFont\" type=\"radio\" value=\"18\"/> <label class=\"lab_set lab_size1\" for=\"inpFont18\"> <span class=\"ico_newsview\"></span> <span aria-hidden=\"true\">가나다라마바사</span> <span class=\"screen_out\">작은 폰트</span> </label> </li>\n <li> <input class=\"screen_out\" id=\"inpFont19\" name=\"inpFont\" type=\"radio\" value=\"19\"/> <label class=\"lab_set lab_size2\" for=\"inpFont19\"> <span class=\"ico_newsview\"></span> <span aria-hidden=\"true\">가나다라마바사</span> <span class=\"screen_out\">보통 폰트</span> </label> </li>\n <li> <input class=\"screen_out\" id=\"inpFont20\" name=\"inpFont\" type=\"radio\" value=\"20\"/> <label class=\"lab_set lab_size3\" for=\"inpFont20\"> <span class=\"ico_newsview\"></span> <span aria-hidden=\"true\">가나다라마바사</span> <span class=\"screen_out\">큰 폰트</span> </label> </li>\n <li> <input class=\"screen_out\" id=\"inpFont21\" name=\"inpFont\" type=\"radio\" value=\"21\"/> <label class=\"lab_set lab_size4\" for=\"inpFont21\"> <span class=\"ico_newsview\"></span> <span aria-hidden=\"true\">가나다라마바사</span> <span class=\"screen_out\">매우 큰 폰트</span> </label> </li>\n </ul>\n </div>\n </div>\n </div>\n <div class=\"btn_util\"> <button class=\"btn_print\" type=\"button\"><span class=\"ico_newsview\">인쇄하기 새창열림</span></button>\n </div>\n </div>\n </div>]"
     },
     "execution_count": 19,
     "metadata": {},
     "output_type": "execute_result"
    }
   ],
   "source": [
    "title = soup.select('div > div.head_view')\n",
    "(title)"
   ],
   "metadata": {
    "collapsed": false,
    "pycharm": {
     "name": "#%%\n"
    }
   }
  },
  {
   "cell_type": "code",
   "execution_count": 20,
   "outputs": [
    {
     "data": {
      "text/plain": "1"
     },
     "execution_count": 20,
     "metadata": {},
     "output_type": "execute_result"
    }
   ],
   "source": [
    "title = soup.select('div > div.head_view > h3')\n",
    "len(title)"
   ],
   "metadata": {
    "collapsed": false,
    "pycharm": {
     "name": "#%%\n"
    }
   }
  },
  {
   "cell_type": "code",
   "execution_count": 21,
   "outputs": [
    {
     "data": {
      "text/plain": "[<h3 class=\"tit_view\" data-translation=\"true\">[올림픽] 김아랑의 부정 출발, 실수 아닌 작전..한국 쇼트트랙의 수싸움</h3>]"
     },
     "execution_count": 21,
     "metadata": {},
     "output_type": "execute_result"
    }
   ],
   "source": [
    "title"
   ],
   "metadata": {
    "collapsed": false,
    "pycharm": {
     "name": "#%%\n"
    }
   }
  },
  {
   "cell_type": "code",
   "execution_count": 24,
   "outputs": [
    {
     "data": {
      "text/plain": "[<h3 class=\"tit_view\" data-translation=\"true\">[올림픽] 김아랑의 부정 출발, 실수 아닌 작전..한국 쇼트트랙의 수싸움</h3>]"
     },
     "execution_count": 24,
     "metadata": {},
     "output_type": "execute_result"
    }
   ],
   "source": [
    "title_1 = soup.select('h3.tit_view')\n",
    "title_1"
   ],
   "metadata": {
    "collapsed": false,
    "pycharm": {
     "name": "#%%\n"
    }
   }
  },
  {
   "cell_type": "code",
   "execution_count": 25,
   "outputs": [
    {
     "data": {
      "text/plain": "'[올림픽] 김아랑의 부정 출발, 실수 아닌 작전..한국 쇼트트랙의 수싸움'"
     },
     "execution_count": 25,
     "metadata": {},
     "output_type": "execute_result"
    }
   ],
   "source": [
    "text_title_1 = soup.select('h3.tit_view')[0].text#첫번째 인자의 태그만 날리고 텍스트만줘!\n",
    "text_title_1"
   ],
   "metadata": {
    "collapsed": false,
    "pycharm": {
     "name": "#%%\n"
    }
   }
  },
  {
   "cell_type": "code",
   "execution_count": 55,
   "outputs": [
    {
     "data": {
      "text/plain": "0"
     },
     "execution_count": 55,
     "metadata": {},
     "output_type": "execute_result"
    }
   ],
   "source": [
    "company = soup.select('figure.figure_frm origin_fig > img.thumb_g_article')\n",
    "len(company)"
   ],
   "metadata": {
    "collapsed": false,
    "pycharm": {
     "name": "#%%\n"
    }
   }
  },
  {
   "cell_type": "code",
   "execution_count": null,
   "outputs": [],
   "source": [],
   "metadata": {
    "collapsed": false,
    "pycharm": {
     "name": "#%%\n"
    }
   }
  }
 ],
 "metadata": {
  "kernelspec": {
   "display_name": "Python 3",
   "language": "python",
   "name": "python3"
  },
  "language_info": {
   "codemirror_mode": {
    "name": "ipython",
    "version": 2
   },
   "file_extension": ".py",
   "mimetype": "text/x-python",
   "name": "python",
   "nbconvert_exporter": "python",
   "pygments_lexer": "ipython2",
   "version": "2.7.6"
  }
 },
 "nbformat": 4,
 "nbformat_minor": 0
}